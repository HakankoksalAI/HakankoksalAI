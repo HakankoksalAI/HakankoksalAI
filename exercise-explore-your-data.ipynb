{
 "cells": [
  {
   "cell_type": "markdown",
   "id": "923e5d25",
   "metadata": {
    "execution": {
     "iopub.execute_input": "2024-11-09T08:53:59.908134Z",
     "iopub.status.busy": "2024-11-09T08:53:59.907725Z",
     "iopub.status.idle": "2024-11-09T08:53:59.915000Z",
     "shell.execute_reply": "2024-11-09T08:53:59.913533Z",
     "shell.execute_reply.started": "2024-11-09T08:53:59.908097Z"
    },
    "papermill": {
     "duration": 0.00518,
     "end_time": "2024-11-11T19:21:08.948003",
     "exception": false,
     "start_time": "2024-11-11T19:21:08.942823",
     "status": "completed"
    },
    "tags": []
   },
   "source": [
    "**[Machine Learning Course Home Page](https://www.kaggle.com/learn/machine-learning)**\n",
    "\n",
    "---\n"
   ]
  },
  {
   "cell_type": "markdown",
   "id": "5d470706",
   "metadata": {
    "papermill": {
     "duration": 0.004429,
     "end_time": "2024-11-11T19:21:08.957301",
     "exception": false,
     "start_time": "2024-11-11T19:21:08.952872",
     "status": "completed"
    },
    "tags": []
   },
   "source": [
    "This exercise will test your ability to read a data file and understand statistics about the data.\n",
    "\n",
    "In later exercises, you will apply techniques to filter the data, build a machine learning model, and iteratively improve your model.\n",
    "\n",
    "The course examples use data from Melbourne. To ensure you can apply these techniques on your own, you will have to apply them to a new dataset (with house prices from Iowa).\n",
    "\n",
    "The exercises use a \"notebook\" coding environment.  In case you are unfamiliar with notebooks, we have a [90-second intro video](https://www.youtube.com/watch?v=4C2qMnaIKL4).\n",
    "\n",
    "# Exercises\n",
    "\n",
    "Run the following cell to set up code-checking, which will verify your work as you go."
   ]
  },
  {
   "cell_type": "code",
   "execution_count": 1,
   "id": "026cded0",
   "metadata": {
    "execution": {
     "iopub.execute_input": "2024-11-11T19:21:08.970122Z",
     "iopub.status.busy": "2024-11-11T19:21:08.968407Z",
     "iopub.status.idle": "2024-11-11T19:21:09.984054Z",
     "shell.execute_reply": "2024-11-11T19:21:09.982465Z"
    },
    "papermill": {
     "duration": 1.024846,
     "end_time": "2024-11-11T19:21:09.986767",
     "exception": false,
     "start_time": "2024-11-11T19:21:08.961921",
     "status": "completed"
    },
    "tags": []
   },
   "outputs": [
    {
     "name": "stdout",
     "output_type": "stream",
     "text": [
      "Setup Complete\n"
     ]
    }
   ],
   "source": [
    "# Set up code checking\n",
    "from learntools.core import binder\n",
    "binder.bind(globals())\n",
    "from learntools.machine_learning.ex2 import *\n",
    "print(\"Setup Complete\")\n",
    "import numpy as np"
   ]
  },
  {
   "cell_type": "markdown",
   "id": "e70409be",
   "metadata": {
    "papermill": {
     "duration": 0.004289,
     "end_time": "2024-11-11T19:21:09.995838",
     "exception": false,
     "start_time": "2024-11-11T19:21:09.991549",
     "status": "completed"
    },
    "tags": []
   },
   "source": [
    "## Step 1: Loading Data\n",
    "Read the Iowa data file into a Pandas DataFrame called `home_data`."
   ]
  },
  {
   "cell_type": "code",
   "execution_count": 2,
   "id": "a3b2a5d5",
   "metadata": {
    "execution": {
     "iopub.execute_input": "2024-11-11T19:21:10.007765Z",
     "iopub.status.busy": "2024-11-11T19:21:10.006681Z",
     "iopub.status.idle": "2024-11-11T19:21:10.064864Z",
     "shell.execute_reply": "2024-11-11T19:21:10.063639Z"
    },
    "papermill": {
     "duration": 0.066927,
     "end_time": "2024-11-11T19:21:10.067662",
     "exception": false,
     "start_time": "2024-11-11T19:21:10.000735",
     "status": "completed"
    },
    "tags": []
   },
   "outputs": [
    {
     "data": {
      "application/javascript": [
       "parent.postMessage({\"jupyterEvent\": \"custom.exercise_interaction\", \"data\": {\"outcomeType\": 1, \"valueTowardsCompletion\": 0.5, \"interactionType\": 1, \"questionType\": 1, \"questionId\": \"1_LoadHomeData\", \"learnToolsVersion\": \"0.3.4\", \"failureMessage\": \"\", \"exceptionClass\": \"\", \"trace\": \"\"}}, \"*\")"
      ],
      "text/plain": [
       "<IPython.core.display.Javascript object>"
      ]
     },
     "metadata": {},
     "output_type": "display_data"
    },
    {
     "data": {
      "text/markdown": [
       "<span style=\"color:#33cc33\">Correct</span>"
      ],
      "text/plain": [
       "Correct"
      ]
     },
     "metadata": {},
     "output_type": "display_data"
    }
   ],
   "source": [
    "import pandas as pd\n",
    "\n",
    "# Path of the file to read\n",
    "iowa_file_path = '/kaggle/input/home-data-for-ml-course/train.csv'\n",
    "\n",
    "# Fill in the line below to read the file into a variable home_data\n",
    "home_data = pd.read_csv(iowa_file_path)\n",
    "\n",
    "# Call line below with no argument to check that you've loaded the data correctly\n",
    "step_1.check()"
   ]
  },
  {
   "cell_type": "code",
   "execution_count": 3,
   "id": "4d64b9e2",
   "metadata": {
    "execution": {
     "iopub.execute_input": "2024-11-11T19:21:10.080710Z",
     "iopub.status.busy": "2024-11-11T19:21:10.079203Z",
     "iopub.status.idle": "2024-11-11T19:21:10.094057Z",
     "shell.execute_reply": "2024-11-11T19:21:10.092702Z"
    },
    "papermill": {
     "duration": 0.024031,
     "end_time": "2024-11-11T19:21:10.096748",
     "exception": false,
     "start_time": "2024-11-11T19:21:10.072717",
     "status": "completed"
    },
    "tags": []
   },
   "outputs": [
    {
     "data": {
      "application/javascript": [
       "parent.postMessage({\"jupyterEvent\": \"custom.exercise_interaction\", \"data\": {\"interactionType\": 2, \"questionType\": 1, \"questionId\": \"1_LoadHomeData\", \"learnToolsVersion\": \"0.3.4\", \"valueTowardsCompletion\": 0.0, \"failureMessage\": \"\", \"exceptionClass\": \"\", \"trace\": \"\", \"outcomeType\": 4}}, \"*\")"
      ],
      "text/plain": [
       "<IPython.core.display.Javascript object>"
      ]
     },
     "metadata": {},
     "output_type": "display_data"
    },
    {
     "data": {
      "text/markdown": [
       "<span style=\"color:#3366cc\">Hint:</span> Use the `pd.read_csv` function"
      ],
      "text/plain": [
       "Hint: Use the `pd.read_csv` function"
      ]
     },
     "metadata": {},
     "output_type": "display_data"
    },
    {
     "data": {
      "application/javascript": [
       "parent.postMessage({\"jupyterEvent\": \"custom.exercise_interaction\", \"data\": {\"interactionType\": 3, \"questionType\": 1, \"questionId\": \"1_LoadHomeData\", \"learnToolsVersion\": \"0.3.4\", \"valueTowardsCompletion\": 0.0, \"failureMessage\": \"\", \"exceptionClass\": \"\", \"trace\": \"\", \"outcomeType\": 4}}, \"*\")"
      ],
      "text/plain": [
       "<IPython.core.display.Javascript object>"
      ]
     },
     "metadata": {},
     "output_type": "display_data"
    },
    {
     "data": {
      "text/markdown": [
       "<span style=\"color:#33cc99\">Solution:</span> \n",
       "```python\n",
       "home_data = pd.read_csv(iowa_file_path)\n",
       "```"
      ],
      "text/plain": [
       "Solution: \n",
       "```python\n",
       "home_data = pd.read_csv(iowa_file_path)\n",
       "```"
      ]
     },
     "metadata": {},
     "output_type": "display_data"
    }
   ],
   "source": [
    "# Lines below will give you a hint or solution code\n",
    "step_1.hint()\n",
    "step_1.solution()"
   ]
  },
  {
   "cell_type": "markdown",
   "id": "ea4da33f",
   "metadata": {
    "papermill": {
     "duration": 0.007121,
     "end_time": "2024-11-11T19:21:10.109685",
     "exception": false,
     "start_time": "2024-11-11T19:21:10.102564",
     "status": "completed"
    },
    "tags": []
   },
   "source": [
    "## Step 2: Review The Data\n",
    "Use the command you learned to view summary statistics of the data. Then fill in variables to answer the following questions"
   ]
  },
  {
   "cell_type": "code",
   "execution_count": 4,
   "id": "faf8bc85",
   "metadata": {
    "execution": {
     "iopub.execute_input": "2024-11-11T19:21:10.125840Z",
     "iopub.status.busy": "2024-11-11T19:21:10.125239Z",
     "iopub.status.idle": "2024-11-11T19:21:10.149644Z",
     "shell.execute_reply": "2024-11-11T19:21:10.148444Z"
    },
    "papermill": {
     "duration": 0.037869,
     "end_time": "2024-11-11T19:21:10.155343",
     "exception": false,
     "start_time": "2024-11-11T19:21:10.117474",
     "status": "completed"
    },
    "tags": []
   },
   "outputs": [
    {
     "name": "stdout",
     "output_type": "stream",
     "text": [
      "10517\n",
      "Index(['Id', 'MSSubClass', 'MSZoning', 'LotFrontage', 'LotArea', 'Street',\n",
      "       'Alley', 'LotShape', 'LandContour', 'Utilities', 'LotConfig',\n",
      "       'LandSlope', 'Neighborhood', 'Condition1', 'Condition2', 'BldgType',\n",
      "       'HouseStyle', 'OverallQual', 'OverallCond', 'YearBuilt', 'YearRemodAdd',\n",
      "       'RoofStyle', 'RoofMatl', 'Exterior1st', 'Exterior2nd', 'MasVnrType',\n",
      "       'MasVnrArea', 'ExterQual', 'ExterCond', 'Foundation', 'BsmtQual',\n",
      "       'BsmtCond', 'BsmtExposure', 'BsmtFinType1', 'BsmtFinSF1',\n",
      "       'BsmtFinType2', 'BsmtFinSF2', 'BsmtUnfSF', 'TotalBsmtSF', 'Heating',\n",
      "       'HeatingQC', 'CentralAir', 'Electrical', '1stFlrSF', '2ndFlrSF',\n",
      "       'LowQualFinSF', 'GrLivArea', 'BsmtFullBath', 'BsmtHalfBath', 'FullBath',\n",
      "       'HalfBath', 'BedroomAbvGr', 'KitchenAbvGr', 'KitchenQual',\n",
      "       'TotRmsAbvGrd', 'Functional', 'Fireplaces', 'FireplaceQu', 'GarageType',\n",
      "       'GarageYrBlt', 'GarageFinish', 'GarageCars', 'GarageArea', 'GarageQual',\n",
      "       'GarageCond', 'PavedDrive', 'WoodDeckSF', 'OpenPorchSF',\n",
      "       'EnclosedPorch', '3SsnPorch', 'ScreenPorch', 'PoolArea', 'PoolQC',\n",
      "       'Fence', 'MiscFeature', 'MiscVal', 'MoSold', 'YrSold', 'SaleType',\n",
      "       'SaleCondition', 'SalePrice'],\n",
      "      dtype='object')\n"
     ]
    },
    {
     "data": {
      "application/javascript": [
       "parent.postMessage({\"jupyterEvent\": \"custom.exercise_interaction\", \"data\": {\"outcomeType\": 1, \"valueTowardsCompletion\": 0.5, \"interactionType\": 1, \"questionType\": 1, \"questionId\": \"2_HomeDescription\", \"learnToolsVersion\": \"0.3.4\", \"failureMessage\": \"\", \"exceptionClass\": \"\", \"trace\": \"\"}}, \"*\")"
      ],
      "text/plain": [
       "<IPython.core.display.Javascript object>"
      ]
     },
     "metadata": {},
     "output_type": "display_data"
    },
    {
     "data": {
      "text/markdown": [
       "<span style=\"color:#33cc33\">Correct</span>"
      ],
      "text/plain": [
       "Correct"
      ]
     },
     "metadata": {},
     "output_type": "display_data"
    }
   ],
   "source": [
    "# What is the average lot size (rounded to nearest integer)?\n",
    "#home_data.info()\n",
    "avg_lot_size = round(sum(home_data.LotArea)/len(home_data.LotArea))\n",
    "print(avg_lot_size)\n",
    "\n",
    "\n",
    "# As of today, how old is the newest home (current year - the date in which it was built)\n",
    "\n",
    "from datetime import datetime\n",
    "currentyear=datetime.now().year\n",
    "\n",
    "newest_home_age = currentyear-(home_data['YearBuilt'].max())\n",
    "print(home_data.columns)\n",
    " #Checks your answers\n",
    "step_2.check()"
   ]
  },
  {
   "cell_type": "code",
   "execution_count": 5,
   "id": "4f7ff908",
   "metadata": {
    "execution": {
     "iopub.execute_input": "2024-11-11T19:21:10.170535Z",
     "iopub.status.busy": "2024-11-11T19:21:10.169933Z",
     "iopub.status.idle": "2024-11-11T19:21:10.175535Z",
     "shell.execute_reply": "2024-11-11T19:21:10.174267Z"
    },
    "papermill": {
     "duration": 0.016988,
     "end_time": "2024-11-11T19:21:10.178825",
     "exception": false,
     "start_time": "2024-11-11T19:21:10.161837",
     "status": "completed"
    },
    "tags": []
   },
   "outputs": [],
   "source": [
    "#step_2.hint()\n",
    "#step_2.solution()"
   ]
  },
  {
   "cell_type": "markdown",
   "id": "7aefaa85",
   "metadata": {
    "papermill": {
     "duration": 0.007298,
     "end_time": "2024-11-11T19:21:10.202793",
     "exception": false,
     "start_time": "2024-11-11T19:21:10.195495",
     "status": "completed"
    },
    "tags": []
   },
   "source": [
    "## Think About Your Data\n",
    "\n",
    "The newest house in your data isn't that new.  A few potential explanations for this:\n",
    "1. They haven't built new houses where this data was collected.\n",
    "1. The data was collected a long time ago. Houses built after the data publication wouldn't show up.\n",
    "\n",
    "If the reason is explanation #1 above, does that affect your trust in the model you build with this data? What about if it is reason #2?\n",
    "\n",
    "How could you dig into the data to see which explanation is more plausible?\n",
    "\n",
    "Check out this **[discussion thread](https://www.kaggle.com/learn-forum/60581)** to see what others think or to add your ideas.\n",
    "\n",
    "# Keep Going\n",
    "\n",
    "You are ready for **[Your First Machine Learning Model](https://www.kaggle.com/dansbecker/your-first-machine-learning-model).**\n"
   ]
  },
  {
   "cell_type": "markdown",
   "id": "3c9339a1",
   "metadata": {
    "papermill": {
     "duration": 0.006302,
     "end_time": "2024-11-11T19:21:10.215490",
     "exception": false,
     "start_time": "2024-11-11T19:21:10.209188",
     "status": "completed"
    },
    "tags": []
   },
   "source": [
    "---\n",
    "**[Machine Learning Course Home Page](https://www.kaggle.com/learn/machine-learning)**\n",
    "\n"
   ]
  },
  {
   "cell_type": "code",
   "execution_count": null,
   "id": "4e162bb6",
   "metadata": {
    "papermill": {
     "duration": 0.006026,
     "end_time": "2024-11-11T19:21:10.227889",
     "exception": false,
     "start_time": "2024-11-11T19:21:10.221863",
     "status": "completed"
    },
    "tags": []
   },
   "outputs": [],
   "source": []
  }
 ],
 "metadata": {
  "kaggle": {
   "accelerator": "none",
   "dataSources": [
    {
     "datasetId": 2709,
     "sourceId": 38454,
     "sourceType": "datasetVersion"
    },
    {
     "datasetId": 108980,
     "sourceId": 260251,
     "sourceType": "datasetVersion"
    }
   ],
   "isGpuEnabled": false,
   "isInternetEnabled": false,
   "language": "python",
   "sourceType": "notebook"
  },
  "kernelspec": {
   "display_name": "Python 3",
   "language": "python",
   "name": "python3"
  },
  "language_info": {
   "codemirror_mode": {
    "name": "ipython",
    "version": 3
   },
   "file_extension": ".py",
   "mimetype": "text/x-python",
   "name": "python",
   "nbconvert_exporter": "python",
   "pygments_lexer": "ipython3",
   "version": "3.10.14"
  },
  "papermill": {
   "default_parameters": {},
   "duration": 4.873449,
   "end_time": "2024-11-11T19:21:10.755838",
   "environment_variables": {},
   "exception": null,
   "input_path": "__notebook__.ipynb",
   "output_path": "__notebook__.ipynb",
   "parameters": {},
   "start_time": "2024-11-11T19:21:05.882389",
   "version": "2.6.0"
  }
 },
 "nbformat": 4,
 "nbformat_minor": 5
}
