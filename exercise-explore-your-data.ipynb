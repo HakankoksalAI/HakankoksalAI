{
 "cells": [
  {
   "cell_type": "markdown",
   "id": "575509c7",
   "metadata": {
    "execution": {
     "iopub.execute_input": "2024-11-09T08:53:59.908134Z",
     "iopub.status.busy": "2024-11-09T08:53:59.907725Z",
     "iopub.status.idle": "2024-11-09T08:53:59.915000Z",
     "shell.execute_reply": "2024-11-09T08:53:59.913533Z",
     "shell.execute_reply.started": "2024-11-09T08:53:59.908097Z"
    },
    "papermill": {
     "duration": 0.005393,
     "end_time": "2024-11-11T18:39:31.488108",
     "exception": false,
     "start_time": "2024-11-11T18:39:31.482715",
     "status": "completed"
    },
    "tags": []
   },
   "source": [
    "**[Machine Learning Course Home Page](https://www.kaggle.com/learn/machine-learning)**\n",
    "\n",
    "---\n"
   ]
  },
  {
   "cell_type": "markdown",
   "id": "323df4fc",
   "metadata": {
    "papermill": {
     "duration": 0.004514,
     "end_time": "2024-11-11T18:39:31.497879",
     "exception": false,
     "start_time": "2024-11-11T18:39:31.493365",
     "status": "completed"
    },
    "tags": []
   },
   "source": [
    "This exercise will test your ability to read a data file and understand statistics about the data.\n",
    "\n",
    "In later exercises, you will apply techniques to filter the data, build a machine learning model, and iteratively improve your model.\n",
    "\n",
    "The course examples use data from Melbourne. To ensure you can apply these techniques on your own, you will have to apply them to a new dataset (with house prices from Iowa).\n",
    "\n",
    "The exercises use a \"notebook\" coding environment.  In case you are unfamiliar with notebooks, we have a [90-second intro video](https://www.youtube.com/watch?v=4C2qMnaIKL4).\n",
    "\n",
    "# Exercises\n",
    "\n",
    "Run the following cell to set up code-checking, which will verify your work as you go."
   ]
  },
  {
   "cell_type": "code",
   "execution_count": 1,
   "id": "8b223806",
   "metadata": {
    "execution": {
     "iopub.execute_input": "2024-11-11T18:39:31.509545Z",
     "iopub.status.busy": "2024-11-11T18:39:31.509011Z",
     "iopub.status.idle": "2024-11-11T18:39:32.879373Z",
     "shell.execute_reply": "2024-11-11T18:39:32.877865Z"
    },
    "papermill": {
     "duration": 1.379671,
     "end_time": "2024-11-11T18:39:32.882363",
     "exception": false,
     "start_time": "2024-11-11T18:39:31.502692",
     "status": "completed"
    },
    "tags": []
   },
   "outputs": [
    {
     "name": "stdout",
     "output_type": "stream",
     "text": [
      "Setup Complete\n"
     ]
    }
   ],
   "source": [
    "# Set up code checking\n",
    "from learntools.core import binder\n",
    "binder.bind(globals())\n",
    "from learntools.machine_learning.ex2 import *\n",
    "print(\"Setup Complete\")\n",
    "import numpy as np"
   ]
  },
  {
   "cell_type": "markdown",
   "id": "8ac0605a",
   "metadata": {
    "papermill": {
     "duration": 0.004746,
     "end_time": "2024-11-11T18:39:32.892350",
     "exception": false,
     "start_time": "2024-11-11T18:39:32.887604",
     "status": "completed"
    },
    "tags": []
   },
   "source": [
    "## Step 1: Loading Data\n",
    "Read the Iowa data file into a Pandas DataFrame called `home_data`."
   ]
  },
  {
   "cell_type": "code",
   "execution_count": 2,
   "id": "ab814f00",
   "metadata": {
    "execution": {
     "iopub.execute_input": "2024-11-11T18:39:32.906306Z",
     "iopub.status.busy": "2024-11-11T18:39:32.905086Z",
     "iopub.status.idle": "2024-11-11T18:39:32.969956Z",
     "shell.execute_reply": "2024-11-11T18:39:32.968791Z"
    },
    "papermill": {
     "duration": 0.074422,
     "end_time": "2024-11-11T18:39:32.972720",
     "exception": false,
     "start_time": "2024-11-11T18:39:32.898298",
     "status": "completed"
    },
    "tags": []
   },
   "outputs": [
    {
     "data": {
      "application/javascript": [
       "parent.postMessage({\"jupyterEvent\": \"custom.exercise_interaction\", \"data\": {\"outcomeType\": 1, \"valueTowardsCompletion\": 0.5, \"interactionType\": 1, \"questionType\": 1, \"questionId\": \"1_LoadHomeData\", \"learnToolsVersion\": \"0.3.4\", \"failureMessage\": \"\", \"exceptionClass\": \"\", \"trace\": \"\"}}, \"*\")"
      ],
      "text/plain": [
       "<IPython.core.display.Javascript object>"
      ]
     },
     "metadata": {},
     "output_type": "display_data"
    },
    {
     "data": {
      "text/markdown": [
       "<span style=\"color:#33cc33\">Correct</span>"
      ],
      "text/plain": [
       "Correct"
      ]
     },
     "metadata": {},
     "output_type": "display_data"
    }
   ],
   "source": [
    "import pandas as pd\n",
    "\n",
    "# Path of the file to read\n",
    "iowa_file_path = '/kaggle/input/home-data-for-ml-course/train.csv'\n",
    "\n",
    "# Fill in the line below to read the file into a variable home_data\n",
    "home_data = pd.read_csv(iowa_file_path)\n",
    "\n",
    "# Call line below with no argument to check that you've loaded the data correctly\n",
    "step_1.check()"
   ]
  },
  {
   "cell_type": "code",
   "execution_count": 3,
   "id": "41f6322c",
   "metadata": {
    "execution": {
     "iopub.execute_input": "2024-11-11T18:39:32.986036Z",
     "iopub.status.busy": "2024-11-11T18:39:32.985097Z",
     "iopub.status.idle": "2024-11-11T18:39:33.000988Z",
     "shell.execute_reply": "2024-11-11T18:39:32.999629Z"
    },
    "papermill": {
     "duration": 0.025943,
     "end_time": "2024-11-11T18:39:33.004002",
     "exception": false,
     "start_time": "2024-11-11T18:39:32.978059",
     "status": "completed"
    },
    "tags": []
   },
   "outputs": [
    {
     "data": {
      "application/javascript": [
       "parent.postMessage({\"jupyterEvent\": \"custom.exercise_interaction\", \"data\": {\"interactionType\": 2, \"questionType\": 1, \"questionId\": \"1_LoadHomeData\", \"learnToolsVersion\": \"0.3.4\", \"valueTowardsCompletion\": 0.0, \"failureMessage\": \"\", \"exceptionClass\": \"\", \"trace\": \"\", \"outcomeType\": 4}}, \"*\")"
      ],
      "text/plain": [
       "<IPython.core.display.Javascript object>"
      ]
     },
     "metadata": {},
     "output_type": "display_data"
    },
    {
     "data": {
      "text/markdown": [
       "<span style=\"color:#3366cc\">Hint:</span> Use the `pd.read_csv` function"
      ],
      "text/plain": [
       "Hint: Use the `pd.read_csv` function"
      ]
     },
     "metadata": {},
     "output_type": "display_data"
    },
    {
     "data": {
      "application/javascript": [
       "parent.postMessage({\"jupyterEvent\": \"custom.exercise_interaction\", \"data\": {\"interactionType\": 3, \"questionType\": 1, \"questionId\": \"1_LoadHomeData\", \"learnToolsVersion\": \"0.3.4\", \"valueTowardsCompletion\": 0.0, \"failureMessage\": \"\", \"exceptionClass\": \"\", \"trace\": \"\", \"outcomeType\": 4}}, \"*\")"
      ],
      "text/plain": [
       "<IPython.core.display.Javascript object>"
      ]
     },
     "metadata": {},
     "output_type": "display_data"
    },
    {
     "data": {
      "text/markdown": [
       "<span style=\"color:#33cc99\">Solution:</span> \n",
       "```python\n",
       "home_data = pd.read_csv(iowa_file_path)\n",
       "```"
      ],
      "text/plain": [
       "Solution: \n",
       "```python\n",
       "home_data = pd.read_csv(iowa_file_path)\n",
       "```"
      ]
     },
     "metadata": {},
     "output_type": "display_data"
    }
   ],
   "source": [
    "# Lines below will give you a hint or solution code\n",
    "step_1.hint()\n",
    "step_1.solution()"
   ]
  },
  {
   "cell_type": "markdown",
   "id": "ca7e72d4",
   "metadata": {
    "papermill": {
     "duration": 0.006307,
     "end_time": "2024-11-11T18:39:33.016510",
     "exception": false,
     "start_time": "2024-11-11T18:39:33.010203",
     "status": "completed"
    },
    "tags": []
   },
   "source": [
    "## Step 2: Review The Data\n",
    "Use the command you learned to view summary statistics of the data. Then fill in variables to answer the following questions"
   ]
  },
  {
   "cell_type": "code",
   "execution_count": 4,
   "id": "ecfda768",
   "metadata": {
    "execution": {
     "iopub.execute_input": "2024-11-11T18:39:33.031688Z",
     "iopub.status.busy": "2024-11-11T18:39:33.030607Z",
     "iopub.status.idle": "2024-11-11T18:39:33.075041Z",
     "shell.execute_reply": "2024-11-11T18:39:33.073387Z"
    },
    "papermill": {
     "duration": 0.05529,
     "end_time": "2024-11-11T18:39:33.078006",
     "exception": false,
     "start_time": "2024-11-11T18:39:33.022716",
     "status": "completed"
    },
    "tags": []
   },
   "outputs": [
    {
     "name": "stdout",
     "output_type": "stream",
     "text": [
      "       Değerler\n",
      "count       0.0\n",
      "mean        NaN\n",
      "std         NaN\n",
      "min         NaN\n",
      "25%         NaN\n",
      "50%         NaN\n",
      "75%         NaN\n",
      "max         NaN\n"
     ]
    }
   ],
   "source": [
    "# Print summary statistics in next line\n",
    "home_data.info\n",
    "home_data=pd.DataFrame(home_data,columns=['Değerler'])\n",
    "OZ=home_data.describe()\n",
    "ortalama_deger = OZ.loc['mean', 'Değerler']\n",
    "standart_sapma = OZ.loc['std', 'Değerler']\n",
    "minimum_deger = OZ.loc['min', 'Değerler']\n",
    "maksimum_deger = OZ.loc['max', 'Değerler']\n",
    "# ve benzeri...\n",
    "\n",
    "# Özet istatistikleri yazdırın.\n",
    "print(OZ)"
   ]
  },
  {
   "cell_type": "code",
   "execution_count": 5,
   "id": "e8620f6b",
   "metadata": {
    "execution": {
     "iopub.execute_input": "2024-11-11T18:39:33.093861Z",
     "iopub.status.busy": "2024-11-11T18:39:33.093316Z",
     "iopub.status.idle": "2024-11-11T18:39:33.104319Z",
     "shell.execute_reply": "2024-11-11T18:39:33.103117Z"
    },
    "papermill": {
     "duration": 0.022362,
     "end_time": "2024-11-11T18:39:33.106857",
     "exception": false,
     "start_time": "2024-11-11T18:39:33.084495",
     "status": "completed"
    },
    "tags": []
   },
   "outputs": [
    {
     "data": {
      "application/javascript": [
       "parent.postMessage({\"jupyterEvent\": \"custom.exercise_interaction\", \"data\": {\"outcomeType\": 4, \"interactionType\": 1, \"questionType\": 1, \"questionId\": \"2_HomeDescription\", \"learnToolsVersion\": \"0.3.4\", \"valueTowardsCompletion\": 0.0, \"failureMessage\": \"\", \"exceptionClass\": \"\", \"trace\": \"\"}}, \"*\")"
      ],
      "text/plain": [
       "<IPython.core.display.Javascript object>"
      ]
     },
     "metadata": {},
     "output_type": "display_data"
    },
    {
     "data": {
      "text/markdown": [
       "<span style=\"color:#ccaa33\">Check:</span> When you've updated the starter code, `check()` will tell you whether your code is correct. You need to update the code that creates variables `avg_lot_size`, `newest_home_age`"
      ],
      "text/plain": [
       "Check: When you've updated the starter code, `check()` will tell you whether your code is correct. You need to update the code that creates variables `avg_lot_size`, `newest_home_age`"
      ]
     },
     "metadata": {},
     "output_type": "display_data"
    }
   ],
   "source": [
    "# What is the average lot size (rounded to nearest integer)?\n",
    "avg_lot_size = ____\n",
    "\n",
    "# As of today, how old is the newest home (current year - the date in which it was built)\n",
    "newest_home_age = ____\n",
    "\n",
    "# Checks your answers\n",
    "step_2.check()"
   ]
  },
  {
   "cell_type": "code",
   "execution_count": 6,
   "id": "7fb5708e",
   "metadata": {
    "execution": {
     "iopub.execute_input": "2024-11-11T18:39:33.123271Z",
     "iopub.status.busy": "2024-11-11T18:39:33.122800Z",
     "iopub.status.idle": "2024-11-11T18:39:33.128238Z",
     "shell.execute_reply": "2024-11-11T18:39:33.127019Z"
    },
    "papermill": {
     "duration": 0.017468,
     "end_time": "2024-11-11T18:39:33.130984",
     "exception": false,
     "start_time": "2024-11-11T18:39:33.113516",
     "status": "completed"
    },
    "tags": []
   },
   "outputs": [],
   "source": [
    "#step_2.hint()\n",
    "#step_2.solution()"
   ]
  },
  {
   "cell_type": "markdown",
   "id": "d179ed56",
   "metadata": {
    "papermill": {
     "duration": 0.006167,
     "end_time": "2024-11-11T18:39:33.143815",
     "exception": false,
     "start_time": "2024-11-11T18:39:33.137648",
     "status": "completed"
    },
    "tags": []
   },
   "source": [
    "## Think About Your Data\n",
    "\n",
    "The newest house in your data isn't that new.  A few potential explanations for this:\n",
    "1. They haven't built new houses where this data was collected.\n",
    "1. The data was collected a long time ago. Houses built after the data publication wouldn't show up.\n",
    "\n",
    "If the reason is explanation #1 above, does that affect your trust in the model you build with this data? What about if it is reason #2?\n",
    "\n",
    "How could you dig into the data to see which explanation is more plausible?\n",
    "\n",
    "Check out this **[discussion thread](https://www.kaggle.com/learn-forum/60581)** to see what others think or to add your ideas.\n",
    "\n",
    "# Keep Going\n",
    "\n",
    "You are ready for **[Your First Machine Learning Model](https://www.kaggle.com/dansbecker/your-first-machine-learning-model).**\n"
   ]
  },
  {
   "cell_type": "markdown",
   "id": "c9e78fc4",
   "metadata": {
    "papermill": {
     "duration": 0.00622,
     "end_time": "2024-11-11T18:39:33.156485",
     "exception": false,
     "start_time": "2024-11-11T18:39:33.150265",
     "status": "completed"
    },
    "tags": []
   },
   "source": [
    "---\n",
    "**[Machine Learning Course Home Page](https://www.kaggle.com/learn/machine-learning)**\n",
    "\n"
   ]
  },
  {
   "cell_type": "code",
   "execution_count": null,
   "id": "dc3034fb",
   "metadata": {
    "papermill": {
     "duration": 0.006192,
     "end_time": "2024-11-11T18:39:33.169231",
     "exception": false,
     "start_time": "2024-11-11T18:39:33.163039",
     "status": "completed"
    },
    "tags": []
   },
   "outputs": [],
   "source": []
  }
 ],
 "metadata": {
  "kaggle": {
   "accelerator": "none",
   "dataSources": [
    {
     "datasetId": 2709,
     "sourceId": 38454,
     "sourceType": "datasetVersion"
    },
    {
     "datasetId": 108980,
     "sourceId": 260251,
     "sourceType": "datasetVersion"
    }
   ],
   "isGpuEnabled": false,
   "isInternetEnabled": false,
   "language": "python",
   "sourceType": "notebook"
  },
  "kernelspec": {
   "display_name": "Python 3",
   "language": "python",
   "name": "python3"
  },
  "language_info": {
   "codemirror_mode": {
    "name": "ipython",
    "version": 3
   },
   "file_extension": ".py",
   "mimetype": "text/x-python",
   "name": "python",
   "nbconvert_exporter": "python",
   "pygments_lexer": "ipython3",
   "version": "3.10.14"
  },
  "papermill": {
   "default_parameters": {},
   "duration": 5.803099,
   "end_time": "2024-11-11T18:39:33.698225",
   "environment_variables": {},
   "exception": null,
   "input_path": "__notebook__.ipynb",
   "output_path": "__notebook__.ipynb",
   "parameters": {},
   "start_time": "2024-11-11T18:39:27.895126",
   "version": "2.6.0"
  }
 },
 "nbformat": 4,
 "nbformat_minor": 5
}
