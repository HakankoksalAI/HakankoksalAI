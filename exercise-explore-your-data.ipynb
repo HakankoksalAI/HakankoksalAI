{
 "cells": [
  {
   "cell_type": "markdown",
   "id": "c1a1dece",
   "metadata": {
    "execution": {
     "iopub.execute_input": "2024-11-09T08:53:59.908134Z",
     "iopub.status.busy": "2024-11-09T08:53:59.907725Z",
     "iopub.status.idle": "2024-11-09T08:53:59.915000Z",
     "shell.execute_reply": "2024-11-09T08:53:59.913533Z",
     "shell.execute_reply.started": "2024-11-09T08:53:59.908097Z"
    },
    "papermill": {
     "duration": 0.005067,
     "end_time": "2024-11-11T19:22:37.624325",
     "exception": false,
     "start_time": "2024-11-11T19:22:37.619258",
     "status": "completed"
    },
    "tags": []
   },
   "source": [
    "**[Machine Learning Course Home Page](https://www.kaggle.com/learn/machine-learning)**\n",
    "\n",
    "---\n"
   ]
  },
  {
   "cell_type": "markdown",
   "id": "038f221f",
   "metadata": {
    "papermill": {
     "duration": 0.004138,
     "end_time": "2024-11-11T19:22:37.633271",
     "exception": false,
     "start_time": "2024-11-11T19:22:37.629133",
     "status": "completed"
    },
    "tags": []
   },
   "source": [
    "This exercise will test your ability to read a data file and understand statistics about the data.\n",
    "\n",
    "In later exercises, you will apply techniques to filter the data, build a machine learning model, and iteratively improve your model.\n",
    "\n",
    "The course examples use data from Melbourne. To ensure you can apply these techniques on your own, you will have to apply them to a new dataset (with house prices from Iowa).\n",
    "\n",
    "The exercises use a \"notebook\" coding environment.  In case you are unfamiliar with notebooks, we have a [90-second intro video](https://www.youtube.com/watch?v=4C2qMnaIKL4).\n",
    "\n",
    "# Exercises\n",
    "\n",
    "Run the following cell to set up code-checking, which will verify your work as you go."
   ]
  },
  {
   "cell_type": "code",
   "execution_count": 1,
   "id": "9cf23d5f",
   "metadata": {
    "execution": {
     "iopub.execute_input": "2024-11-11T19:22:37.643805Z",
     "iopub.status.busy": "2024-11-11T19:22:37.643346Z",
     "iopub.status.idle": "2024-11-11T19:22:38.648456Z",
     "shell.execute_reply": "2024-11-11T19:22:38.647369Z"
    },
    "papermill": {
     "duration": 1.013546,
     "end_time": "2024-11-11T19:22:38.651185",
     "exception": false,
     "start_time": "2024-11-11T19:22:37.637639",
     "status": "completed"
    },
    "tags": []
   },
   "outputs": [
    {
     "name": "stdout",
     "output_type": "stream",
     "text": [
      "Setup Complete\n"
     ]
    }
   ],
   "source": [
    "# Set up code checking\n",
    "from learntools.core import binder\n",
    "binder.bind(globals())\n",
    "from learntools.machine_learning.ex2 import *\n",
    "print(\"Setup Complete\")\n",
    "import numpy as np"
   ]
  },
  {
   "cell_type": "markdown",
   "id": "4c62bfc9",
   "metadata": {
    "papermill": {
     "duration": 0.004342,
     "end_time": "2024-11-11T19:22:38.660251",
     "exception": false,
     "start_time": "2024-11-11T19:22:38.655909",
     "status": "completed"
    },
    "tags": []
   },
   "source": [
    "## Step 1: Loading Data\n",
    "Read the Iowa data file into a Pandas DataFrame called `home_data`."
   ]
  },
  {
   "cell_type": "code",
   "execution_count": 2,
   "id": "9ac2ecb3",
   "metadata": {
    "execution": {
     "iopub.execute_input": "2024-11-11T19:22:38.671752Z",
     "iopub.status.busy": "2024-11-11T19:22:38.671164Z",
     "iopub.status.idle": "2024-11-11T19:22:38.727894Z",
     "shell.execute_reply": "2024-11-11T19:22:38.726794Z"
    },
    "papermill": {
     "duration": 0.065248,
     "end_time": "2024-11-11T19:22:38.730339",
     "exception": false,
     "start_time": "2024-11-11T19:22:38.665091",
     "status": "completed"
    },
    "tags": []
   },
   "outputs": [
    {
     "data": {
      "application/javascript": [
       "parent.postMessage({\"jupyterEvent\": \"custom.exercise_interaction\", \"data\": {\"outcomeType\": 1, \"valueTowardsCompletion\": 0.5, \"interactionType\": 1, \"questionType\": 1, \"questionId\": \"1_LoadHomeData\", \"learnToolsVersion\": \"0.3.4\", \"failureMessage\": \"\", \"exceptionClass\": \"\", \"trace\": \"\"}}, \"*\")"
      ],
      "text/plain": [
       "<IPython.core.display.Javascript object>"
      ]
     },
     "metadata": {},
     "output_type": "display_data"
    },
    {
     "data": {
      "text/markdown": [
       "<span style=\"color:#33cc33\">Correct</span>"
      ],
      "text/plain": [
       "Correct"
      ]
     },
     "metadata": {},
     "output_type": "display_data"
    }
   ],
   "source": [
    "import pandas as pd\n",
    "\n",
    "# Path of the file to read\n",
    "iowa_file_path = '/kaggle/input/home-data-for-ml-course/train.csv'\n",
    "\n",
    "# Fill in the line below to read the file into a variable home_data\n",
    "home_data = pd.read_csv(iowa_file_path)\n",
    "\n",
    "# Call line below with no argument to check that you've loaded the data correctly\n",
    "step_1.check()"
   ]
  },
  {
   "cell_type": "code",
   "execution_count": 3,
   "id": "8a925cd4",
   "metadata": {
    "execution": {
     "iopub.execute_input": "2024-11-11T19:22:38.742803Z",
     "iopub.status.busy": "2024-11-11T19:22:38.741615Z",
     "iopub.status.idle": "2024-11-11T19:22:38.756368Z",
     "shell.execute_reply": "2024-11-11T19:22:38.755287Z"
    },
    "papermill": {
     "duration": 0.023455,
     "end_time": "2024-11-11T19:22:38.758737",
     "exception": false,
     "start_time": "2024-11-11T19:22:38.735282",
     "status": "completed"
    },
    "tags": []
   },
   "outputs": [
    {
     "data": {
      "application/javascript": [
       "parent.postMessage({\"jupyterEvent\": \"custom.exercise_interaction\", \"data\": {\"interactionType\": 2, \"questionType\": 1, \"questionId\": \"1_LoadHomeData\", \"learnToolsVersion\": \"0.3.4\", \"valueTowardsCompletion\": 0.0, \"failureMessage\": \"\", \"exceptionClass\": \"\", \"trace\": \"\", \"outcomeType\": 4}}, \"*\")"
      ],
      "text/plain": [
       "<IPython.core.display.Javascript object>"
      ]
     },
     "metadata": {},
     "output_type": "display_data"
    },
    {
     "data": {
      "text/markdown": [
       "<span style=\"color:#3366cc\">Hint:</span> Use the `pd.read_csv` function"
      ],
      "text/plain": [
       "Hint: Use the `pd.read_csv` function"
      ]
     },
     "metadata": {},
     "output_type": "display_data"
    },
    {
     "data": {
      "application/javascript": [
       "parent.postMessage({\"jupyterEvent\": \"custom.exercise_interaction\", \"data\": {\"interactionType\": 3, \"questionType\": 1, \"questionId\": \"1_LoadHomeData\", \"learnToolsVersion\": \"0.3.4\", \"valueTowardsCompletion\": 0.0, \"failureMessage\": \"\", \"exceptionClass\": \"\", \"trace\": \"\", \"outcomeType\": 4}}, \"*\")"
      ],
      "text/plain": [
       "<IPython.core.display.Javascript object>"
      ]
     },
     "metadata": {},
     "output_type": "display_data"
    },
    {
     "data": {
      "text/markdown": [
       "<span style=\"color:#33cc99\">Solution:</span> \n",
       "```python\n",
       "home_data = pd.read_csv(iowa_file_path)\n",
       "```"
      ],
      "text/plain": [
       "Solution: \n",
       "```python\n",
       "home_data = pd.read_csv(iowa_file_path)\n",
       "```"
      ]
     },
     "metadata": {},
     "output_type": "display_data"
    }
   ],
   "source": [
    "# Lines below will give you a hint or solution code\n",
    "step_1.hint()\n",
    "step_1.solution()"
   ]
  },
  {
   "cell_type": "markdown",
   "id": "fe5be7c9",
   "metadata": {
    "papermill": {
     "duration": 0.005502,
     "end_time": "2024-11-11T19:22:38.769957",
     "exception": false,
     "start_time": "2024-11-11T19:22:38.764455",
     "status": "completed"
    },
    "tags": []
   },
   "source": [
    "## Step 2: Review The Data\n",
    "Use the command you learned to view summary statistics of the data. Then fill in variables to answer the following questions"
   ]
  },
  {
   "cell_type": "code",
   "execution_count": 4,
   "id": "bd6e6e61",
   "metadata": {
    "execution": {
     "iopub.execute_input": "2024-11-11T19:22:38.783136Z",
     "iopub.status.busy": "2024-11-11T19:22:38.782652Z",
     "iopub.status.idle": "2024-11-11T19:22:38.802567Z",
     "shell.execute_reply": "2024-11-11T19:22:38.801417Z"
    },
    "papermill": {
     "duration": 0.029869,
     "end_time": "2024-11-11T19:22:38.805378",
     "exception": false,
     "start_time": "2024-11-11T19:22:38.775509",
     "status": "completed"
    },
    "tags": []
   },
   "outputs": [
    {
     "name": "stdout",
     "output_type": "stream",
     "text": [
      "10517\n",
      "14\n"
     ]
    },
    {
     "data": {
      "application/javascript": [
       "parent.postMessage({\"jupyterEvent\": \"custom.exercise_interaction\", \"data\": {\"outcomeType\": 1, \"valueTowardsCompletion\": 0.5, \"interactionType\": 1, \"questionType\": 1, \"questionId\": \"2_HomeDescription\", \"learnToolsVersion\": \"0.3.4\", \"failureMessage\": \"\", \"exceptionClass\": \"\", \"trace\": \"\"}}, \"*\")"
      ],
      "text/plain": [
       "<IPython.core.display.Javascript object>"
      ]
     },
     "metadata": {},
     "output_type": "display_data"
    },
    {
     "data": {
      "text/markdown": [
       "<span style=\"color:#33cc33\">Correct</span>"
      ],
      "text/plain": [
       "Correct"
      ]
     },
     "metadata": {},
     "output_type": "display_data"
    }
   ],
   "source": [
    "# What is the average lot size (rounded to nearest integer)?\n",
    "#home_data.info()\n",
    "avg_lot_size = round(sum(home_data.LotArea)/len(home_data.LotArea))\n",
    "print(avg_lot_size)\n",
    "\n",
    "\n",
    "# As of today, how old is the newest home (current year - the date in which it was built)\n",
    "\n",
    "from datetime import datetime\n",
    "currentyear=datetime.now().year\n",
    "\n",
    "newest_home_age = currentyear-(home_data['YearBuilt'].max())\n",
    "print(newest_home_age)\n",
    " #Checks your answers\n",
    "step_2.check()"
   ]
  },
  {
   "cell_type": "code",
   "execution_count": 5,
   "id": "b86528ee",
   "metadata": {
    "execution": {
     "iopub.execute_input": "2024-11-11T19:22:38.819374Z",
     "iopub.status.busy": "2024-11-11T19:22:38.818934Z",
     "iopub.status.idle": "2024-11-11T19:22:38.832276Z",
     "shell.execute_reply": "2024-11-11T19:22:38.831143Z"
    },
    "papermill": {
     "duration": 0.023294,
     "end_time": "2024-11-11T19:22:38.834789",
     "exception": false,
     "start_time": "2024-11-11T19:22:38.811495",
     "status": "completed"
    },
    "tags": []
   },
   "outputs": [
    {
     "data": {
      "application/javascript": [
       "parent.postMessage({\"jupyterEvent\": \"custom.exercise_interaction\", \"data\": {\"interactionType\": 2, \"questionType\": 1, \"questionId\": \"2_HomeDescription\", \"learnToolsVersion\": \"0.3.4\", \"valueTowardsCompletion\": 0.0, \"failureMessage\": \"\", \"exceptionClass\": \"\", \"trace\": \"\", \"outcomeType\": 4}}, \"*\")"
      ],
      "text/plain": [
       "<IPython.core.display.Javascript object>"
      ]
     },
     "metadata": {},
     "output_type": "display_data"
    },
    {
     "data": {
      "text/markdown": [
       "<span style=\"color:#3366cc\">Hint:</span> Run the describe command. Lot size is in the column called LotArea. Also look at YearBuilt. Remember to round lot size "
      ],
      "text/plain": [
       "Hint: Run the describe command. Lot size is in the column called LotArea. Also look at YearBuilt. Remember to round lot size "
      ]
     },
     "metadata": {},
     "output_type": "display_data"
    },
    {
     "data": {
      "application/javascript": [
       "parent.postMessage({\"jupyterEvent\": \"custom.exercise_interaction\", \"data\": {\"interactionType\": 3, \"questionType\": 1, \"questionId\": \"2_HomeDescription\", \"learnToolsVersion\": \"0.3.4\", \"valueTowardsCompletion\": 0.0, \"failureMessage\": \"\", \"exceptionClass\": \"\", \"trace\": \"\", \"outcomeType\": 4}}, \"*\")"
      ],
      "text/plain": [
       "<IPython.core.display.Javascript object>"
      ]
     },
     "metadata": {},
     "output_type": "display_data"
    },
    {
     "data": {
      "text/markdown": [
       "<span style=\"color:#33cc99\">Solution:</span> \n",
       "```python\n",
       "# using data read from home_data.describe()\n",
       "avg_lot_size = 10517\n",
       "newest_home_age = 14\n",
       "\n",
       "```"
      ],
      "text/plain": [
       "Solution: \n",
       "```python\n",
       "# using data read from home_data.describe()\n",
       "avg_lot_size = 10517\n",
       "newest_home_age = 14\n",
       "\n",
       "```"
      ]
     },
     "metadata": {},
     "output_type": "display_data"
    }
   ],
   "source": [
    "step_2.hint()\n",
    "step_2.solution()"
   ]
  },
  {
   "cell_type": "markdown",
   "id": "9dea640c",
   "metadata": {
    "papermill": {
     "duration": 0.007626,
     "end_time": "2024-11-11T19:22:38.849149",
     "exception": false,
     "start_time": "2024-11-11T19:22:38.841523",
     "status": "completed"
    },
    "tags": []
   },
   "source": [
    "## Think About Your Data\n",
    "\n",
    "The newest house in your data isn't that new.  A few potential explanations for this:\n",
    "1. They haven't built new houses where this data was collected.\n",
    "1. The data was collected a long time ago. Houses built after the data publication wouldn't show up.\n",
    "\n",
    "If the reason is explanation #1 above, does that affect your trust in the model you build with this data? What about if it is reason #2?\n",
    "\n",
    "How could you dig into the data to see which explanation is more plausible?\n",
    "\n",
    "Check out this **[discussion thread](https://www.kaggle.com/learn-forum/60581)** to see what others think or to add your ideas.\n",
    "\n",
    "# Keep Going\n",
    "\n",
    "You are ready for **[Your First Machine Learning Model](https://www.kaggle.com/dansbecker/your-first-machine-learning-model).**\n"
   ]
  },
  {
   "cell_type": "markdown",
   "id": "3b560c3f",
   "metadata": {
    "papermill": {
     "duration": 0.006541,
     "end_time": "2024-11-11T19:22:38.862351",
     "exception": false,
     "start_time": "2024-11-11T19:22:38.855810",
     "status": "completed"
    },
    "tags": []
   },
   "source": [
    "---\n",
    "**[Machine Learning Course Home Page](https://www.kaggle.com/learn/machine-learning)**\n",
    "\n"
   ]
  },
  {
   "cell_type": "code",
   "execution_count": null,
   "id": "f6e66d58",
   "metadata": {
    "papermill": {
     "duration": 0.006555,
     "end_time": "2024-11-11T19:22:38.875567",
     "exception": false,
     "start_time": "2024-11-11T19:22:38.869012",
     "status": "completed"
    },
    "tags": []
   },
   "outputs": [],
   "source": []
  }
 ],
 "metadata": {
  "kaggle": {
   "accelerator": "none",
   "dataSources": [
    {
     "datasetId": 2709,
     "sourceId": 38454,
     "sourceType": "datasetVersion"
    },
    {
     "datasetId": 108980,
     "sourceId": 260251,
     "sourceType": "datasetVersion"
    }
   ],
   "isGpuEnabled": false,
   "isInternetEnabled": false,
   "language": "python",
   "sourceType": "notebook"
  },
  "kernelspec": {
   "display_name": "Python 3",
   "language": "python",
   "name": "python3"
  },
  "language_info": {
   "codemirror_mode": {
    "name": "ipython",
    "version": 3
   },
   "file_extension": ".py",
   "mimetype": "text/x-python",
   "name": "python",
   "nbconvert_exporter": "python",
   "pygments_lexer": "ipython3",
   "version": "3.10.14"
  },
  "papermill": {
   "default_parameters": {},
   "duration": 4.897542,
   "end_time": "2024-11-11T19:22:39.403748",
   "environment_variables": {},
   "exception": null,
   "input_path": "__notebook__.ipynb",
   "output_path": "__notebook__.ipynb",
   "parameters": {},
   "start_time": "2024-11-11T19:22:34.506206",
   "version": "2.6.0"
  }
 },
 "nbformat": 4,
 "nbformat_minor": 5
}
